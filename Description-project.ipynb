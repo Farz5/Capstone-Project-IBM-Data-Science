{
    "nbformat_minor": 1, 
    "cells": [
        {
            "source": "## Description of the problem", 
            "cell_type": "markdown", 
            "metadata": {
                "collapsed": true
            }
        }, 
        {
            "source": "In Munich, if someone is looking to open a restaurant, where is the best place to open and what kind of restaurant is missing there?", 
            "cell_type": "markdown", 
            "metadata": {}
        }, 
        {
            "source": "## Description of the data\n", 
            "cell_type": "markdown", 
            "metadata": {}
        }, 
        {
            "source": "Data from Foursquare in Munich will be analysed in Munich downtown to find out where the best areas for opening a restaurants are, after clustering the areas suggestions will be made to find out what kind of restaurant is missing or is better to open in that area.", 
            "cell_type": "markdown", 
            "metadata": {}
        }, 
        {
            "execution_count": null, 
            "cell_type": "code", 
            "metadata": {}, 
            "outputs": [], 
            "source": ""
        }
    ], 
    "metadata": {
        "kernelspec": {
            "display_name": "Python 3.5", 
            "name": "python3", 
            "language": "python"
        }, 
        "language_info": {
            "mimetype": "text/x-python", 
            "nbconvert_exporter": "python", 
            "version": "3.5.5", 
            "name": "python", 
            "file_extension": ".py", 
            "pygments_lexer": "ipython3", 
            "codemirror_mode": {
                "version": 3, 
                "name": "ipython"
            }
        }
    }, 
    "nbformat": 4
}